{
 "cells": [
  {
   "cell_type": "markdown",
   "metadata": {},
   "source": [
    "## Preprocessing"
   ]
  },
  {
   "cell_type": "code",
   "execution_count": 1,
   "metadata": {},
   "outputs": [],
   "source": [
    "import pandas as pd\n",
    "import numpy as np\n",
    "import matplotlib.pyplot as plt\n",
    "\n",
    "import os"
   ]
  },
  {
   "cell_type": "code",
   "execution_count": 2,
   "metadata": {},
   "outputs": [],
   "source": [
    "raw_data_path = '../data/raw/'\n",
    "all_files = os.listdir(raw_data_path)"
   ]
  },
  {
   "cell_type": "code",
   "execution_count": 9,
   "metadata": {},
   "outputs": [],
   "source": [
    "def clean_first_col(df):\n",
    "    new_ax = []\n",
    "    for ax in df['ax']:\n",
    "        if isinstance(ax, float):\n",
    "            ax = \"{:.2f}\".format(ax)\n",
    "        tmp = float(ax[-4:])\n",
    "        if ax[-5] == '-':\n",
    "            tmp = tmp*(-1)\n",
    "        new_ax.append(tmp)\n",
    "    df['ax'] = new_ax\n",
    "    "
   ]
  },
  {
   "cell_type": "code",
   "execution_count": 8,
   "metadata": {
    "scrolled": true
   },
   "outputs": [
    {
     "name": "stdout",
     "output_type": "stream",
     "text": [
      "AH_CU_20_14_1_5.csv\n",
      "AH_DL_60_12_1_1.csv\n",
      "AH_OH_20_11_1_6.csv\n",
      "AH_BE_40_14_1_1.csv\n",
      "AH_DL_60_14_1_5.csv\n",
      "AH_CL_20_12_1_8.csv\n",
      "AH_CU_20_12_1_3.csv\n",
      "AH_SQ_40_12_1_2.csv\n",
      "AH_OH_20_14_1_1.csv\n",
      "AH_BE_40_12_1_4.csv\n",
      "AH_CU_20_14_1_2.csv\n",
      "AH_OH_20_12_1_6.csv\n",
      "AH_SQ_40_14_1_5.csv\n",
      "AH_CU_20_12_1_6.csv\n",
      "AH_OH_20_14_1_5.csv\n",
      "AH_DL_60_8_1_7.csv\n",
      "AH_OH_20_12_1_3.csv\n",
      "AH_OH_20_12_1_2.csv\n",
      "AH_BE_40_12_1_2.csv\n",
      "AH_BE_40_12_1_3.csv\n",
      "AH_SQ_40_14_1_1.csv\n",
      "SE_BE_40_12_1_3.csv\n",
      "AH_DL_60_8_1_8.csv\n",
      "SE_BE_40_12_1_4.csv\n",
      "SE_DL_60_12_1_1.csv\n",
      "AH_DL_60_14_2_1.csv\n",
      "SE_BE_40_12_1_2.csv\n",
      "AH_OH_20_12_1_7.csv\n",
      "AH_OH_20_12_1_8.csv\n",
      "SE_DL_60_12_1_2.csv\n",
      "AH_CU_20_14_1_1.csv\n",
      "AH_CU_20_14_1_7.csv\n",
      "SE_BE_40_15_1_1.csv\n",
      "AH_DL_60_12_1_3.csv\n",
      "AH_OH_20_12_1_4.csv\n",
      "AH_DL_60_12_1_2.csv\n",
      "AH_DL_60_8_1_9.csv\n",
      "AH_SQ_40_12_1_3.csv\n",
      "AH_CU_20_12_1_4.csv\n",
      "AH_SQ_40_12_1_4.csv\n",
      "SE_DL_60_12_1_3.csv\n",
      "AH_DL_60_12_1_6.csv\n"
     ]
    }
   ],
   "source": [
    "col_names = ['ax','ay','az','gx','gy','gz','mx','my','mz']\n",
    "\n",
    "fitness_data = {}\n",
    "for f in all_files:\n",
    "    if (f.split('.')[1] == 'rtf') | (f.split('.')[1] == 'txt'):\n",
    "        continue\n",
    "    print(f)\n",
    "    data = pd.read_csv(raw_data_path + f, header=None, names=col_names)\n",
    "    clean_first_col(data)\n",
    "    data.drop(['mx','my','mz'], axis=1, inplace=True)\n",
    "    fitness_data[f.split('.')[0]] = data\n",
    "    data.to_csv('../data/clean/'+f, index=True, header=False)\n",
    "    "
   ]
  },
  {
   "cell_type": "code",
   "execution_count": 3,
   "metadata": {},
   "outputs": [],
   "source": [
    "f = 'SE_BE_10_10_3.csv'\n"
   ]
  },
  {
   "cell_type": "code",
   "execution_count": 11,
   "metadata": {},
   "outputs": [],
   "source": [
    "data = pd.read_csv(raw_data_path + f, header=None, names=['ax','ay','az','gx','gy','gz'])\n",
    "data\n",
    "data.dropna(inplace= True)\n",
    "clean_first_col(data)"
   ]
  },
  {
   "cell_type": "code",
   "execution_count": 13,
   "metadata": {},
   "outputs": [],
   "source": [
    "data.to_csv('../data/clean/'+f, index=True, header=False)"
   ]
  },
  {
   "cell_type": "code",
   "execution_count": null,
   "metadata": {},
   "outputs": [],
   "source": []
  }
 ],
 "metadata": {
  "kernelspec": {
   "display_name": "logwork",
   "language": "python",
   "name": "logwork"
  },
  "language_info": {
   "codemirror_mode": {
    "name": "ipython",
    "version": 3
   },
   "file_extension": ".py",
   "mimetype": "text/x-python",
   "name": "python",
   "nbconvert_exporter": "python",
   "pygments_lexer": "ipython3",
   "version": "3.6.10"
  }
 },
 "nbformat": 4,
 "nbformat_minor": 4
}
